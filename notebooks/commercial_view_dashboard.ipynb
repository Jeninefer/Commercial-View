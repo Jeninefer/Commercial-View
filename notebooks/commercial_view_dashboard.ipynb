{
 "cells": [
  {
   "cell_type": "markdown",
   "metadata": {},
   "source": [
    "# Commercial-View Executive & Management Notebook\n",
    "This notebook is version-controlled for GitHub distribution and orchestrates the Commercial-View dashboard pipeline, hybrid AI narratives, and export workflow."
   ]
  },
  {
   "cell_type": "markdown",
   "metadata": {},
   "source": [
    "## Operational Guardrails\n",
    "- Activate the project virtual environment before execution to satisfy the pipeline guard.\n",
    "- Ensure `GEMINI_API_KEY`, `OPENAI_API_KEY`, `FIGMA_FILE_KEY`, and `SLACK_WEBHOOK_URL` are configured for full export fidelity.\n",
    "- Toggle `export_to_figma` and `export_to_slack` flags in the final cell to route deliverables to design (Figma) and operations (Slack)."
   ]
  },
  {
   "cell_type": "code",
   "execution_count": null,
   "metadata": {},
   "outputs": [],
   "source": [
    "from pipeline import CommercialViewPipeline\n",
    "from dashboard_orchestrator import DashboardOrchestrator"
   ]
  },
  {
   "cell_type": "code",
   "execution_count": null,
   "metadata": {},
   "outputs": [],
   "source": [
    "pipeline = CommercialViewPipeline()\n",
    "orchestrator = DashboardOrchestrator(pipeline=pipeline)"
   ]
  },
  {
   "cell_type": "code",
   "execution_count": null,
   "metadata": {},
   "outputs": [],
   "source": [
    "views = orchestrator.build_dashboard_views()\n",
    "investor_view = views['investor']\n",
    "management_view = views['management']\n",
    "investor_view, management_view"
   ]
  },
  {
   "cell_type": "code",
   "execution_count": null,
   "metadata": {},
   "outputs": [],
   "source": [
    "export_result = orchestrator.export_dashboard_views(\n",
    "    views, export_to_figma=True, export_to_slack=True\n",
    ")\n",
    "export_result"
   ]
  }
 ],
 "metadata": {
  "kernelspec": {
   "display_name": "Python 3",
   "language": "python",
   "name": "python3"
  },
  "language_info": {
   "codemirror_mode": {
    "name": "ipython",
    "version": 3
   },
   "file_extension": ".py",
   "mimetype": "text/x-python",
   "name": "python",
   "nbconvert_exporter": "python",
   "pygments_lexer": "ipython3",
   "version": "3.10"
  }
 },
 "nbformat": 4,
 "nbformat_minor": 5
}
